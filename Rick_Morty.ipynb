{
  "nbformat": 4,
  "nbformat_minor": 0,
  "metadata": {
    "colab": {
      "name": "Untitled0.ipynb",
      "provenance": [],
      "toc_visible": true
    },
    "kernelspec": {
      "name": "python3",
      "display_name": "Python 3"
    },
    "language_info": {
      "name": "python"
    }
  },
  "cells": [
    {
      "cell_type": "code",
      "metadata": {
        "id": "Q3oZhh4QU6eW",
        "colab": {
          "base_uri": "https://localhost:8080/"
        },
        "outputId": "131ad554-6e29-445c-ed7f-be440620e3c2"
      },
      "source": [
        "%pip install pandas\n",
        "%pip install twilio"
      ],
      "execution_count": 15,
      "outputs": [
        {
          "output_type": "stream",
          "name": "stdout",
          "text": [
            "Requirement already satisfied: pandas in /usr/local/lib/python3.7/dist-packages (1.1.5)\n",
            "Requirement already satisfied: python-dateutil>=2.7.3 in /usr/local/lib/python3.7/dist-packages (from pandas) (2.8.2)\n",
            "Requirement already satisfied: pytz>=2017.2 in /usr/local/lib/python3.7/dist-packages (from pandas) (2018.9)\n",
            "Requirement already satisfied: numpy>=1.15.4 in /usr/local/lib/python3.7/dist-packages (from pandas) (1.19.5)\n",
            "Requirement already satisfied: six>=1.5 in /usr/local/lib/python3.7/dist-packages (from python-dateutil>=2.7.3->pandas) (1.15.0)\n",
            "Requirement already satisfied: twilio in /usr/local/lib/python3.7/dist-packages (7.3.0)\n",
            "Requirement already satisfied: pytz in /usr/local/lib/python3.7/dist-packages (from twilio) (2018.9)\n",
            "Requirement already satisfied: requests>=2.0.0 in /usr/local/lib/python3.7/dist-packages (from twilio) (2.23.0)\n",
            "Requirement already satisfied: PyJWT<3.0.0,>=2.0.0 in /usr/local/lib/python3.7/dist-packages (from twilio) (2.3.0)\n",
            "Requirement already satisfied: chardet<4,>=3.0.2 in /usr/local/lib/python3.7/dist-packages (from requests>=2.0.0->twilio) (3.0.4)\n",
            "Requirement already satisfied: certifi>=2017.4.17 in /usr/local/lib/python3.7/dist-packages (from requests>=2.0.0->twilio) (2021.5.30)\n",
            "Requirement already satisfied: idna<3,>=2.5 in /usr/local/lib/python3.7/dist-packages (from requests>=2.0.0->twilio) (2.10)\n",
            "Requirement already satisfied: urllib3!=1.25.0,!=1.25.1,<1.26,>=1.21.1 in /usr/local/lib/python3.7/dist-packages (from requests>=2.0.0->twilio) (1.24.3)\n"
          ]
        }
      ]
    },
    {
      "cell_type": "code",
      "metadata": {
        "id": "ulh2HXluVlum"
      },
      "source": [
        "import pandas as pd \n",
        "personagens_df = pd.read_json(\"https://raw.githubusercontent.com/jeffersonchaves/rick-and-morty-dados/main/character.json\")\n",
        "episodios_df = pd.read_json(\"https://raw.githubusercontent.com/jeffersonchaves/rick-and-morty-dados/main/episode.json\")\n"
      ],
      "execution_count": 16,
      "outputs": []
    },
    {
      "cell_type": "code",
      "metadata": {
        "colab": {
          "base_uri": "https://localhost:8080/"
        },
        "id": "Ty2RCCD3h1IU",
        "outputId": "f007ed55-5352-43f8-e79c-fe3ba774c52e"
      },
      "source": [
        "#1. Quantos personagens existe nessa lista?\n",
        "\n",
        "linha,coluna = personagens_df.shape\n",
        "\n",
        "print(f'Existem {linha} personagens nesse arquivo!')"
      ],
      "execution_count": 17,
      "outputs": [
        {
          "output_type": "stream",
          "name": "stdout",
          "text": [
            "Existem 100 personagens nesse arquivo!\n"
          ]
        }
      ]
    },
    {
      "cell_type": "code",
      "metadata": {
        "colab": {
          "base_uri": "https://localhost:8080/"
        },
        "id": "kPCGUXtAnjLQ",
        "outputId": "ff3680cd-d4f2-4442-e136-d6a2af0ff4da"
      },
      "source": [
        "#2. Quantos personagens são humanos?\n",
        "\n",
        "humano_condicao = personagens_df['species'] == 'Human'\n",
        "\n",
        "personagens_humanos_df = personagens_df.loc[humano_condicao]\n",
        "\n",
        "numero_humanos, col = personagens_humanos_df.shape\n",
        "\n",
        "print(f'Existem {numero_humanos} personagens humanos nesse arquivo!')\n"
      ],
      "execution_count": 18,
      "outputs": [
        {
          "output_type": "stream",
          "name": "stdout",
          "text": [
            "Existem 48 personagens humanos nesse arquivo!\n"
          ]
        }
      ]
    },
    {
      "cell_type": "code",
      "metadata": {
        "colab": {
          "base_uri": "https://localhost:8080/"
        },
        "id": "sYE9bOmmn8NW",
        "outputId": "8c877f8a-6daf-4d00-8bc0-d15fb914f754"
      },
      "source": [
        "#3. Quantos personagens são alienígenas?\n",
        "\n",
        "alien_condicao = personagens_df['species'] == 'Alien'\n",
        "\n",
        "personagens_alien_df = personagens_df.loc[alien_condicao]\n",
        "\n",
        "numero_aliens, col = personagens_alien_df.shape\n",
        "\n",
        "print(f'Existem {numero_aliens} personagens aliens nesse arquivo!')"
      ],
      "execution_count": 19,
      "outputs": [
        {
          "output_type": "stream",
          "name": "stdout",
          "text": [
            "Existem 27 personagens aliens nesse arquivo!\n"
          ]
        }
      ]
    },
    {
      "cell_type": "code",
      "metadata": {
        "colab": {
          "base_uri": "https://localhost:8080/"
        },
        "id": "ka1ffhMcomqS",
        "outputId": "ab37dcd5-2049-444b-d98b-06db6b1e6053"
      },
      "source": [
        "#4. Há quantos tipos de alienígenas diferentes?\n",
        "\n",
        "alien = personagens_df['species'] == 'Alien'\n",
        "\n",
        "aliens_df = personagens_df.loc[alien]\n",
        " \n",
        "lista_aliens = aliens_df\n",
        "\n",
        "x = lista_aliens['type'].value_counts()\n",
        "\n",
        "numeros_tipos_alienigena = x.shape\n",
        "\n",
        "print(f'Existem {numeros_tipos_alienigena[0]} tipos de alienígenas!')\n"
      ],
      "execution_count": 42,
      "outputs": [
        {
          "output_type": "stream",
          "name": "stdout",
          "text": [
            "Existem 16 tipos de alienígenas!\n"
          ]
        }
      ]
    },
    {
      "cell_type": "code",
      "metadata": {
        "colab": {
          "base_uri": "https://localhost:8080/"
        },
        "id": "Uk0Cy5B0vLNA",
        "outputId": "1fe4983c-816c-4975-c2af-23fc13060065"
      },
      "source": [
        "#5. Quantos alienígenas são homens e quantos são mulheres?\n",
        "\n",
        "lista_aliens_homens = aliens_df\n",
        "lista_aliens_mulheres = aliens_df\n",
        "\n",
        "homens = lista_aliens_homens['gender'] == \"Male\"\n",
        "\n",
        "mulheres = lista_aliens_mulheres['gender'] == \"Female\"\n",
        "\n",
        "lista_aliens_homens = lista_aliens_homens.loc[homens]\n",
        "lista_homens, col = lista_aliens_homens.shape\n",
        "\n",
        "lista_aliens_mulheres = lista_aliens_mulheres.loc[mulheres]\n",
        "lista_mulheres, col = lista_aliens_mulheres.shape\n",
        "\n",
        "\n",
        "print(f'Existem  {lista_homens} alienígenas homens  e {lista_mulheres} alienígenas mulheres!')\n",
        "\n"
      ],
      "execution_count": 41,
      "outputs": [
        {
          "output_type": "stream",
          "name": "stdout",
          "text": [
            "Existem  15 alienígenas homens  e 4 alienígenas mulheres!\n"
          ]
        }
      ]
    },
    {
      "cell_type": "code",
      "metadata": {
        "colab": {
          "base_uri": "https://localhost:8080/"
        },
        "id": "iSDJM9QR2pra",
        "outputId": "1a192983-5bec-41c0-f7bf-3b8d3266a1ae"
      },
      "source": [
        "#6. Qual o nome do episódio em que o personagem crocubot aparece?\n",
        "\n",
        "crocubot_condition = personagens_df['name'] == 'Crocubot'\n",
        "\n",
        "crocubot = personagens_df.loc[crocubot_condition]\n",
        "\n",
        "crocubot_episode_url = crocubot[\"episode\"].values[0] \n",
        "\n",
        "crocubot_episode_id = int(crocubot_episode_url[0].split(\"/\")[-1])\n",
        "\n",
        "episode_crocubot = episodios_df.loc[crocubot_episode_id == episodios_df[\"id\"]] \n",
        "\n",
        "nome_episodio = episode_crocubot[\"name\"].values[0]\n",
        "print(f'O nome do episodio é: {nome_episodio}')\n"
      ],
      "execution_count": 33,
      "outputs": [
        {
          "output_type": "stream",
          "name": "stdout",
          "text": [
            "O nome do episodio é: Vindicators 3: The Return of Worldender\n"
          ]
        }
      ]
    },
    {
      "cell_type": "code",
      "metadata": {
        "colab": {
          "base_uri": "https://localhost:8080/"
        },
        "id": "onu2Rgn604J6",
        "outputId": "29564793-39ca-40ec-ca9b-906ecc90f9f5"
      },
      "source": [
        "#7. Quantos personagens estão em planetas chamados Earth, independente do universo?\n",
        "\n",
        "personagens_terra = 0\n",
        "\n",
        "for index, row in personagens_df.iterrows():\n",
        "    local = row[\"location\"]\n",
        "    nome_local = local[\"name\"]\n",
        "\n",
        "    if \"Earth\" in nome_local:\n",
        "      personagens_terra += 1\n",
        "\n",
        "print(f'Tem {personagens_terra} personagens em planetas chamado Earth') \n",
        "\n"
      ],
      "execution_count": 37,
      "outputs": [
        {
          "output_type": "stream",
          "name": "stdout",
          "text": [
            "Tem 31 personagens em planetas chamado Earth\n"
          ]
        }
      ]
    },
    {
      "cell_type": "code",
      "metadata": {
        "colab": {
          "base_uri": "https://localhost:8080/"
        },
        "id": "oizW_O4e3y2v",
        "outputId": "8ab8ea89-1903-46eb-bdd1-3c9aab1d964e"
      },
      "source": [
        "#8. Em quantos espisódios diferentes aparecem personagens da espécie alienígena?\n",
        "\n",
        "quant_episodios = 0 \n",
        "\n",
        "for index_episode, row_episode in episodios_df.iterrows():\n",
        "    personagens_episodio = row_episode[\"characters\"]\n",
        "    tem_alien = False\n",
        "\n",
        "    for personagem_url in personagens_episodio:\n",
        "      id_personagem = int(personagem_url.split('/')[-1])\n",
        "\n",
        "      if id_personagem <= 100:\n",
        "        personagem = personagens_df.loc[personagens_df[\"id\"] == id_personagem]\n",
        "        especie_personagem = personagem[\"species\"].values[0]\n",
        "        if especie_personagem == \"Alien\":\n",
        "          tem_alien = True\n",
        "\n",
        "    if tem_alien:\n",
        "      quant_episodios += 1\n",
        "\n",
        "\n",
        "\n",
        "print(f'Aparecem em {quant_episodios} episodios, personagens alienigenas')\n"
      ],
      "execution_count": 40,
      "outputs": [
        {
          "output_type": "stream",
          "name": "stdout",
          "text": [
            "Aparecem em 19 episodios, personagens alienigenas\n"
          ]
        }
      ]
    },
    {
      "cell_type": "code",
      "metadata": {
        "id": "X23HApjH6Hpb"
      },
      "source": [
        ""
      ],
      "execution_count": null,
      "outputs": []
    }
  ]
}